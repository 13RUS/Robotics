{
 "cells": [
  {
   "cell_type": "code",
   "execution_count": null,
   "id": "ada6b5fa",
   "metadata": {
    "scrolled": true
   },
   "outputs": [],
   "source": [
    "# Чтение входных данных\n",
    "x1, y1 = map(int, input().split())\n",
    "x2, y2 = map(int, input().split())\n",
    "n = int(input())\n",
    "commands = [input().split() for _ in range(n)]\n",
    "\n",
    "# Инициализация позиций роботов\n",
    "r1 = (x1, y1)\n",
    "r2 = (x2, y2)\n",
    "\n",
    "# Проверка начального положения\n",
    "if r1 == r2:\n",
    "    print(\"Yes\")\n",
    "    exit()\n",
    "\n",
    "# Словарь для преобразования направления в координатные изменения\n",
    "direction = {\n",
    "    'UP': (0, 1),\n",
    "    'DOWN': (0, -1),\n",
    "    'LEFT': (-1, 0),\n",
    "    'RIGHT': (1, 0)\n",
    "}\n",
    "\n",
    "# Обработка команд\n",
    "for cmd in commands:\n",
    "    robot, dir, steps = cmd\n",
    "    steps = int(steps)\n",
    "    dx, dy = direction[dir]\n",
    "    \n",
    "    # Двигаем робота шаг за шагом\n",
    "    for _ in range(steps):\n",
    "        if robot == 'R1':\n",
    "            r1 = (r1[0] + dx, r1[1] + dy)\n",
    "        else:\n",
    "            r2 = (r2[0] + dx, r2[1] + dy)\n",
    "        \n",
    "        # Проверка столкновения после каждого шага\n",
    "        if r1 == r2:\n",
    "            print(\"Yes\")\n",
    "            exit()\n",
    "\n",
    "# Если столкновения не произошло\n",
    "print(\"No\")\n"
   ]
  },
  {
   "cell_type": "code",
   "execution_count": null,
   "id": "4d2f1711",
   "metadata": {},
   "outputs": [],
   "source": []
  }
 ],
 "metadata": {
  "kernelspec": {
   "display_name": "Python 3 (ipykernel)",
   "language": "python",
   "name": "python3"
  },
  "language_info": {
   "codemirror_mode": {
    "name": "ipython",
    "version": 3
   },
   "file_extension": ".py",
   "mimetype": "text/x-python",
   "name": "python",
   "nbconvert_exporter": "python",
   "pygments_lexer": "ipython3",
   "version": "3.9.7"
  }
 },
 "nbformat": 4,
 "nbformat_minor": 5
}
