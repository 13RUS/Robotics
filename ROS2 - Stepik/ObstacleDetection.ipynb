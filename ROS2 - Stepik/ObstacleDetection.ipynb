{
 "cells": [
  {
   "cell_type": "code",
   "execution_count": null,
   "id": "acea273e-3d5e-4b98-9232-c8cb342f7212",
   "metadata": {},
   "outputs": [],
   "source": [
    "def calculate_robot_steps(num_steps, path):\n",
    "    # Найдем первое препятствие в строке\n",
    "    for i in range(num_steps):\n",
    "        if path[i] == 'X':\n",
    "            return i\n",
    "    \n",
    "    # Если препятствий нет, возвращаем максимальное количество шагов\n",
    "    return num_steps\n",
    "\n",
    "# Чтение входных данных\n",
    "num_steps = int(input())\n",
    "path = input()\n",
    "\n",
    "# Вычисление и вывод результата\n",
    "result = calculate_robot_steps(num_steps, path)\n",
    "print(result)\n"
   ]
  }
 ],
 "metadata": {
  "kernelspec": {
   "display_name": "Python 3 (ipykernel)",
   "language": "python",
   "name": "python3"
  },
  "language_info": {
   "codemirror_mode": {
    "name": "ipython",
    "version": 3
   },
   "file_extension": ".py",
   "mimetype": "text/x-python",
   "name": "python",
   "nbconvert_exporter": "python",
   "pygments_lexer": "ipython3",
   "version": "3.12.2"
  }
 },
 "nbformat": 4,
 "nbformat_minor": 5
}
