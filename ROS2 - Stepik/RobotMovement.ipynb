{
 "cells": [
  {
   "cell_type": "code",
   "execution_count": null,
   "id": "0d4d07a0-1d7b-49f9-bb7d-bd452780ae22",
   "metadata": {},
   "outputs": [],
   "source": [
    "def determine_direction(initial_direction, commands):\n",
    "    direction = initial_direction  # начальное направление\n",
    "    \n",
    "    left_turns = {'N': 'W', 'W': 'S', 'S': 'E', 'E': 'N'}\n",
    "    right_turns = {'N': 'E', 'E': 'S', 'S': 'W', 'W': 'N'}\n",
    "    \n",
    "    for cmd in commands:\n",
    "        if cmd == 'L':  # поворот налево\n",
    "            direction = left_turns[direction]\n",
    "        elif cmd == 'R':  # поворот направо\n",
    "            direction = right_turns[direction]\n",
    "        # F и B не меняют направление\n",
    "    \n",
    "    return direction\n",
    "\n",
    "# Ввод\n",
    "initial_direction = input().strip()\n",
    "commands = input().strip()\n",
    "\n",
    "# Вывод\n",
    "result = determine_direction(initial_direction, commands)\n",
    "print(result)"
   ]
  }
 ],
 "metadata": {
  "kernelspec": {
   "display_name": "Python [conda env:base] *",
   "language": "python",
   "name": "conda-base-py"
  },
  "language_info": {
   "codemirror_mode": {
    "name": "ipython",
    "version": 3
   },
   "file_extension": ".py",
   "mimetype": "text/x-python",
   "name": "python",
   "nbconvert_exporter": "python",
   "pygments_lexer": "ipython3",
   "version": "3.11.0"
  }
 },
 "nbformat": 4,
 "nbformat_minor": 5
}
