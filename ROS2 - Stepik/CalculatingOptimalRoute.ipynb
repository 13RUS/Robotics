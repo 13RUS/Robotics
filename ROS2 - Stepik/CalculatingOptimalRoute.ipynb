{
 "cells": [
  {
   "cell_type": "code",
   "execution_count": null,
   "id": "93b90ba8",
   "metadata": {},
   "outputs": [],
   "source": [
    "from collections import deque\n",
    "\n",
    "# Чтение входных данных\n",
    "n, m = map(int, input().split())\n",
    "start_x, start_y = map(int, input().split())\n",
    "end_x, end_y = map(int, input().split())\n",
    "k = int(input())\n",
    "\n",
    "# Создание сетки и отметка препятствий\n",
    "grid = [[False] * m for _ in range(n)]\n",
    "for _ in range(k):\n",
    "    x, y = map(int, input().split())\n",
    "    grid[x][y] = True  # Препятствие\n",
    "\n",
    "# Проверка если начальная или конечная точка заблокированы\n",
    "if grid[start_x][start_y] or grid[end_x][end_y]:\n",
    "    print(-1)\n",
    "    exit()\n",
    "\n",
    "# Если начальная точка совпадает с конечной\n",
    "if (start_x, start_y) == (end_x, end_y):\n",
    "    print(0)\n",
    "    exit()\n",
    "\n",
    "# Направления движения (вверх, вниз, влево, вправо)\n",
    "directions = [(-1, 0), (1, 0), (0, -1), (0, 1)]\n",
    "\n",
    "# Очередь для BFS: (x, y, шаги)\n",
    "queue = deque()\n",
    "queue.append((start_x, start_y, 0))\n",
    "grid[start_x][start_y] = True  # Помечаем как посещенную\n",
    "\n",
    "# Поиск кратчайшего пути\n",
    "found = False\n",
    "while queue:\n",
    "    x, y, steps = queue.popleft()\n",
    "    \n",
    "    for dx, dy in directions:\n",
    "        nx, ny = x + dx, y + dy\n",
    "        \n",
    "        # Проверка на выход за границы и наличие препятствия\n",
    "        if 0 <= nx < n and 0 <= ny < m and not grid[nx][ny]:\n",
    "            if (nx, ny) == (end_x, end_y):\n",
    "                print(steps + 1)\n",
    "                exit()\n",
    "            \n",
    "            grid[nx][ny] = True  # Пометить как посещенную\n",
    "            queue.append((nx, ny, steps + 1))\n",
    "\n",
    "# Если путь не найден\n",
    "print(-1)\n"
   ]
  }
 ],
 "metadata": {
  "kernelspec": {
   "display_name": "Python 3 (ipykernel)",
   "language": "python",
   "name": "python3"
  },
  "language_info": {
   "codemirror_mode": {
    "name": "ipython",
    "version": 3
   },
   "file_extension": ".py",
   "mimetype": "text/x-python",
   "name": "python",
   "nbconvert_exporter": "python",
   "pygments_lexer": "ipython3",
   "version": "3.9.7"
  }
 },
 "nbformat": 4,
 "nbformat_minor": 5
}
