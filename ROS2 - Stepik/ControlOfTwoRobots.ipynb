{
 "cells": [
  {
   "cell_type": "code",
   "execution_count": 1,
   "id": "acea273e-3d5e-4b98-9232-c8cb342f7212",
   "metadata": {},
   "outputs": [
    {
     "name": "stdout",
     "output_type": "stream",
     "text": [
      "3\n",
      "R1 UP 3\n",
      "R2 RIGHT 2\n",
      "R1 LEFT 1\n",
      "R1: (-1, 3)\n",
      "R2: (12, 10)\n"
     ]
    }
   ],
   "source": [
    "def move_robots(commands):\n",
    "    # Начальные позиции роботов\n",
    "    robots = {\n",
    "        'R1': [0, 0],\n",
    "        'R2': [10, 10]\n",
    "    }\n",
    "    \n",
    "    # Словарь направлений движения\n",
    "    directions = {\n",
    "        'UP': [0, 1],\n",
    "        'DOWN': [0, -1],\n",
    "        'LEFT': [-1, 0],\n",
    "        'RIGHT': [1, 0]\n",
    "    }\n",
    "    \n",
    "    # Обработка каждой команды\n",
    "    for command in commands:\n",
    "        robot, direction, steps = command.split()\n",
    "        steps = int(steps)\n",
    "        \n",
    "        # Получаем направление движения\n",
    "        dx, dy = directions[direction]\n",
    "        \n",
    "        # Обновляем координаты робота\n",
    "        robots[robot][0] += dx * steps\n",
    "        robots[robot][1] += dy * steps\n",
    "    \n",
    "    # Вывод финальных позиций\n",
    "    print(f\"R1: ({robots['R1'][0]}, {robots['R1'][1]})\")\n",
    "    print(f\"R2: ({robots['R2'][0]}, {robots['R2'][1]})\")\n",
    "\n",
    "def main():\n",
    "    # Количество команд\n",
    "    n = int(input())\n",
    "    \n",
    "    # Список команд\n",
    "    commands = []\n",
    "    for _ in range(n):\n",
    "        commands.append(input())\n",
    "    \n",
    "    # Выполнение движения роботов\n",
    "    move_robots(commands)\n",
    "\n",
    "if __name__ == \"__main__\":\n",
    "    main()"
   ]
  },
  {
   "cell_type": "code",
   "execution_count": null,
   "id": "d708d244",
   "metadata": {},
   "outputs": [],
   "source": []
  }
 ],
 "metadata": {
  "kernelspec": {
   "display_name": "Python 3 (ipykernel)",
   "language": "python",
   "name": "python3"
  },
  "language_info": {
   "codemirror_mode": {
    "name": "ipython",
    "version": 3
   },
   "file_extension": ".py",
   "mimetype": "text/x-python",
   "name": "python",
   "nbconvert_exporter": "python",
   "pygments_lexer": "ipython3",
   "version": "3.9.7"
  }
 },
 "nbformat": 4,
 "nbformat_minor": 5
}
