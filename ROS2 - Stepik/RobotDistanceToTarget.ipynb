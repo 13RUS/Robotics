{
 "cells": [
  {
   "cell_type": "code",
   "execution_count": null,
   "id": "acea273e-3d5e-4b98-9232-c8cb342f7212",
   "metadata": {},
   "outputs": [],
   "source": [
    "def calculate_distance(commands):\n",
    "    x, y = 0, 0  # Начальная позиция\n",
    "    \n",
    "    for command in commands:\n",
    "        direction, distance = command.split()\n",
    "        distance = int(distance)\n",
    "        \n",
    "        if direction == \"UP\":\n",
    "            y += distance\n",
    "        elif direction == \"DOWN\":\n",
    "            y -= distance\n",
    "        elif direction == \"LEFT\":\n",
    "            x -= distance\n",
    "        elif direction == \"RIGHT\":\n",
    "            x += distance\n",
    "    \n",
    "    # Вычисляем евклидово расстояние\n",
    "    import math\n",
    "    distance_from_origin = math.sqrt(x**2 + y**2)\n",
    "    \n",
    "    # Округляем до двух знаков после запятой\n",
    "    return \"{:.2f}\".format(distance_from_origin)\n",
    "\n",
    "# Обработка ввода\n",
    "n = int(input())  # Количество команд\n",
    "commands = []\n",
    "for _ in range(n):\n",
    "    commands.append(input())\n",
    "\n",
    "# Вычисление и вывод результата\n",
    "result = calculate_distance(commands)\n",
    "print(result)"
   ]
  }
 ],
 "metadata": {
  "kernelspec": {
   "display_name": "Python [conda env:base] *",
   "language": "python",
   "name": "conda-base-py"
  },
  "language_info": {
   "codemirror_mode": {
    "name": "ipython",
    "version": 3
   },
   "file_extension": ".py",
   "mimetype": "text/x-python",
   "name": "python",
   "nbconvert_exporter": "python",
   "pygments_lexer": "ipython3",
   "version": "3.11.0"
  }
 },
 "nbformat": 4,
 "nbformat_minor": 5
}
