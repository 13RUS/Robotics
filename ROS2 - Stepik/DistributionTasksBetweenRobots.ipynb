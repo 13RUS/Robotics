{
 "cells": [
  {
   "cell_type": "code",
   "execution_count": null,
   "id": "e582bd7e",
   "metadata": {},
   "outputs": [],
   "source": [
    "n = int(input())\n",
    "robots = []\n",
    "for _ in range(n):\n",
    "    x, y = map(int, input().split())\n",
    "    robots.append([x, y])\n",
    "\n",
    "m = int(input())\n",
    "tasks = [tuple(map(int, input().split())) for _ in range(m)]\n",
    "total = 0\n",
    "\n",
    "for i in range(m):\n",
    "    tx, ty = tasks[i]\n",
    "    min_dist = None\n",
    "    selected_robot = -1\n",
    "    selected_idx = -1\n",
    "    \n",
    "    for idx in range(n):\n",
    "        rx, ry = robots[idx]\n",
    "        dist = abs(rx - tx) + abs(ry - ty)\n",
    "        \n",
    "        if selected_robot == -1:\n",
    "            min_dist = dist\n",
    "            selected_robot = idx + 1\n",
    "            selected_idx = idx\n",
    "        else:\n",
    "            if dist < min_dist or (dist == min_dist and (idx + 1) < selected_robot):\n",
    "                min_dist = dist\n",
    "                selected_robot = idx + 1\n",
    "                selected_idx = idx\n",
    "                \n",
    "    robots[selected_idx][0] = tx\n",
    "    robots[selected_idx][1] = ty\n",
    "    total += min_dist\n",
    "    print(f\"Задача {i+1}: Робот {selected_robot}\")\n",
    "\n",
    "print(f\"Минимальное расстояние: {total}\")\n"
   ]
  }
 ],
 "metadata": {
  "kernelspec": {
   "display_name": "Python 3 (ipykernel)",
   "language": "python",
   "name": "python3"
  },
  "language_info": {
   "codemirror_mode": {
    "name": "ipython",
    "version": 3
   },
   "file_extension": ".py",
   "mimetype": "text/x-python",
   "name": "python",
   "nbconvert_exporter": "python",
   "pygments_lexer": "ipython3",
   "version": "3.9.7"
  }
 },
 "nbformat": 4,
 "nbformat_minor": 5
}
