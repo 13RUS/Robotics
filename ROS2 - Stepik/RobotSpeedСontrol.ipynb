{
 "cells": [
  {
   "cell_type": "code",
   "execution_count": null,
   "id": "5446d090-9319-406f-9563-9b14ef338b62",
   "metadata": {},
   "outputs": [],
   "source": [
    "def calculate_robot_speed(speed, commands):\n",
    "    \n",
    "    for command in commands:\n",
    "        if command == 'A':\n",
    "            speed += 1\n",
    "        else:\n",
    "            speed -=1\n",
    "     \n",
    "    return speed\n",
    "\n",
    "speed = int(input())\n",
    "commands = input()\n",
    "\n",
    "print (calculate_robot_speed(speed, commands))"
   ]
  }
 ],
 "metadata": {
  "kernelspec": {
   "display_name": "Python 3 (ipykernel)",
   "language": "python",
   "name": "python3"
  },
  "language_info": {
   "codemirror_mode": {
    "name": "ipython",
    "version": 3
   },
   "file_extension": ".py",
   "mimetype": "text/x-python",
   "name": "python",
   "nbconvert_exporter": "python",
   "pygments_lexer": "ipython3",
   "version": "3.12.2"
  }
 },
 "nbformat": 4,
 "nbformat_minor": 5
}
